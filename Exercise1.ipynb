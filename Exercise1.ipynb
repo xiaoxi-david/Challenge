{
 "cells": [
  {
   "cell_type": "markdown",
   "metadata": {},
   "source": [
    "# Exercise 1"
   ]
  },
  {
   "cell_type": "markdown",
   "metadata": {},
   "source": [
    "Count the number of lines of **bookings.csv.bz2** and **searches.csv.bz2** in Python."
   ]
  },
  {
   "cell_type": "markdown",
   "metadata": {},
   "source": [
    "## Load libraries"
   ]
  },
  {
   "cell_type": "code",
   "execution_count": 1,
   "metadata": {},
   "outputs": [],
   "source": [
    "import pandas as pd\r\n",
    "import numpy as np"
   ]
  },
  {
   "cell_type": "code",
   "execution_count": 2,
   "metadata": {},
   "outputs": [],
   "source": [
    "path_bookings = \"../Data/bookings.csv.bz2\"\r\n",
    "path_searches = \"../Data/searches.csv.bz2\""
   ]
  },
  {
   "cell_type": "markdown",
   "metadata": {},
   "source": [
    "## Number of rows in **bookings.csv.bz2**"
   ]
  },
  {
   "cell_type": "markdown",
   "metadata": {},
   "source": [
    "As the file is so big (529 MB) that it can't fit in the memory of my computer, I read it in chunks."
   ]
  },
  {
   "cell_type": "code",
   "execution_count": 3,
   "metadata": {},
   "outputs": [],
   "source": [
    "bookings_iter = pd.read_csv(\r\n",
    "            path_bookings,\r\n",
    "            compression='bz2',\r\n",
    "            engine='c',\r\n",
    "            chunksize=100000,\r\n",
    "            usecols=[\"intl\"],\r\n",
    "            delimiter=\"^\")"
   ]
  },
  {
   "cell_type": "markdown",
   "metadata": {},
   "source": [
    "**Plan action**\r\n",
    "Get to the last row of the file and check its index\r\n",
    "1. Loop over all chunks\r\n",
    "2. Check the index of the last row of the last chunks"
   ]
  },
  {
   "cell_type": "code",
   "execution_count": 4,
   "metadata": {},
   "outputs": [],
   "source": [
    "bookings_chunk = None\r\n",
    "\r\n",
    "for bookings_chunk in bookings_iter:\r\n",
    "    pass"
   ]
  },
  {
   "cell_type": "code",
   "execution_count": 5,
   "metadata": {},
   "outputs": [
    {
     "data": {
      "text/plain": "10000010"
     },
     "execution_count": 5,
     "metadata": {},
     "output_type": "execute_result"
    }
   ],
   "source": [
    "number_bookings_rows = bookings_chunk.index.values[-1]+1\r\n",
    "number_bookings_rows"
   ]
  },
  {
   "cell_type": "markdown",
   "metadata": {},
   "source": [
    "## Number of rows in **searches.csv.bz2**"
   ]
  },
  {
   "cell_type": "markdown",
   "metadata": {},
   "source": [
    "As the file is so big (460 MB) that it can't fit in the memory of my computer, I read it in chunks."
   ]
  },
  {
   "cell_type": "code",
   "execution_count": 6,
   "metadata": {},
   "outputs": [],
   "source": [
    "searches_iter = pd.read_csv(\r\n",
    "        path_searches,\r\n",
    "        compression='bz2',\r\n",
    "        engine='c',\r\n",
    "        chunksize=100000,\r\n",
    "        dtype={\"RoundTrip\": 'boolean'},\r\n",
    "        usecols=[\"RoundTrip\"],\r\n",
    "        delimiter=\"^\")"
   ]
  },
  {
   "cell_type": "markdown",
   "metadata": {},
   "source": [
    "**Plan action**\r\n",
    "Get to the last row of the file and check its index\r\n",
    "1. Loop over all chunks\r\n",
    "2. Check the index of the last row of the last chunks"
   ]
  },
  {
   "cell_type": "code",
   "execution_count": 7,
   "metadata": {},
   "outputs": [],
   "source": [
    "searches_chunk = None\r\n",
    "\r\n",
    "for searches_chunk in searches_iter:\r\n",
    "    pass"
   ]
  },
  {
   "cell_type": "code",
   "execution_count": 8,
   "metadata": {},
   "outputs": [
    {
     "data": {
      "text/plain": "20390198"
     },
     "execution_count": 8,
     "metadata": {},
     "output_type": "execute_result"
    }
   ],
   "source": [
    "number_searchess_rows = searches_chunk.index.values[-1]+1\r\n",
    "number_searchess_rows"
   ]
  }
 ],
 "metadata": {
  "kernelspec": {
   "display_name": "Python 3",
   "name": "python3"
  },
  "language_info": {
   "codemirror_mode": {
    "name": "ipython",
    "version": 3
   },
   "file_extension": ".py",
   "mimetype": "text/x-python",
   "name": "python",
   "nbconvert_exporter": "python",
   "pygments_lexer": "ipython3",
   "version": "3.8.5-final"
  },
  "orig_nbformat": 2
 },
 "nbformat": 4,
 "nbformat_minor": 2
}