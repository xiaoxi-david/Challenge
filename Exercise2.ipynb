{
 "cells": [
  {
   "cell_type": "markdown",
   "metadata": {},
   "source": [
    "# Load libraries"
   ]
  },
  {
   "cell_type": "code",
   "execution_count": 2,
   "metadata": {},
   "outputs": [],
   "source": [
    "import pandas as pd\r\n",
    "import numpy as np"
   ]
  },
  {
   "cell_type": "markdown",
   "metadata": {},
   "source": [
    "# Load data in chunks"
   ]
  },
  {
   "cell_type": "code",
   "execution_count": 5,
   "metadata": {},
   "outputs": [],
   "source": [
    "bookings_iter = pd.read_csv(\r\n",
    "   \"/bookings.csv.bz2\",\r\n",
    "    compression='bz2',\r\n",
    "    engine='c',\r\n",
    "    chunksize=1000,\r\n",
    "    dtype={\"arr_port\": \"string\", \"pax\": np.int16},\r\n",
    "    usecols=[\"arr_port\", \"pax\"],\r\n",
    "    delimiter=\"^\",\r\n",
    ")"
   ]
  },
  {
   "cell_type": "code",
   "execution_count": 6,
   "metadata": {},
   "outputs": [
    {
     "data": {
      "text/html": "<div>\n<style scoped>\n    .dataframe tbody tr th:only-of-type {\n        vertical-align: middle;\n    }\n\n    .dataframe tbody tr th {\n        vertical-align: top;\n    }\n\n    .dataframe thead th {\n        text-align: right;\n    }\n</style>\n<table border=\"1\" class=\"dataframe\">\n  <thead>\n    <tr style=\"text-align: right;\">\n      <th></th>\n      <th>arr_port</th>\n      <th>pax</th>\n    </tr>\n  </thead>\n  <tbody>\n  </tbody>\n</table>\n</div>",
      "text/plain": "Empty DataFrame\nColumns: [arr_port, pax]\nIndex: []"
     },
     "execution_count": 6,
     "metadata": {},
     "output_type": "execute_result"
    }
   ],
   "source": [
    "pax_per_port = pd.DataFrame({\"arr_port\": [], \"pax\": []})\r\n",
    "pax_per_port"
   ]
  },
  {
   "cell_type": "code",
   "execution_count": 7,
   "metadata": {},
   "outputs": [],
   "source": [
    "for bookings_chunk in bookings_iter:\r\n",
    "    try:\r\n",
    "        grp = (\r\n",
    "            bookings_chunk.convert_dtypes()\r\n",
    "            .dropna()\r\n",
    "            .groupby([\"arr_port\"])\r\n",
    "            .agg({\"pax\": np.sum})\r\n",
    "            .reset_index()\r\n",
    "        )\r\n",
    "        pax_per_port = pax_per_port.append(grp, ignore_index=True)\r\n",
    "    except Exception as e:\r\n",
    "        bookings_iter.get_chunk.to_csv('./faulty_bookings_group.csv')\r\n",
    "    "
   ]
  },
  {
   "cell_type": "code",
   "execution_count": 17,
   "metadata": {},
   "outputs": [
    {
     "data": {
      "text/html": "<div>\n<style scoped>\n    .dataframe tbody tr th:only-of-type {\n        vertical-align: middle;\n    }\n\n    .dataframe tbody tr th {\n        vertical-align: top;\n    }\n\n    .dataframe thead th {\n        text-align: right;\n    }\n</style>\n<table border=\"1\" class=\"dataframe\">\n  <thead>\n    <tr style=\"text-align: right;\">\n      <th></th>\n      <th>arr_port</th>\n      <th>passengers</th>\n    </tr>\n  </thead>\n  <tbody>\n    <tr>\n      <th>0</th>\n      <td>LHR</td>\n      <td>88809</td>\n    </tr>\n    <tr>\n      <th>1</th>\n      <td>MCO</td>\n      <td>70930</td>\n    </tr>\n    <tr>\n      <th>2</th>\n      <td>LAX</td>\n      <td>70530</td>\n    </tr>\n    <tr>\n      <th>3</th>\n      <td>LAS</td>\n      <td>69630</td>\n    </tr>\n    <tr>\n      <th>4</th>\n      <td>JFK</td>\n      <td>66270</td>\n    </tr>\n    <tr>\n      <th>5</th>\n      <td>CDG</td>\n      <td>64490</td>\n    </tr>\n    <tr>\n      <th>6</th>\n      <td>BKK</td>\n      <td>59460</td>\n    </tr>\n    <tr>\n      <th>7</th>\n      <td>MIA</td>\n      <td>58150</td>\n    </tr>\n    <tr>\n      <th>8</th>\n      <td>SFO</td>\n      <td>58000</td>\n    </tr>\n    <tr>\n      <th>9</th>\n      <td>DXB</td>\n      <td>55590</td>\n    </tr>\n  </tbody>\n</table>\n</div>",
      "text/plain": "   arr_port  passengers\n0  LHR            88809\n1  MCO            70930\n2  LAX            70530\n3  LAS            69630\n4  JFK            66270\n5  CDG            64490\n6  BKK            59460\n7  MIA            58150\n8  SFO            58000\n9  DXB            55590"
     },
     "execution_count": 17,
     "metadata": {},
     "output_type": "execute_result"
    }
   ],
   "source": [
    "(\r\n",
    "    pax_per_port\r\n",
    "    .groupby(['arr_port'])\r\n",
    "    .agg({'pax', np.sum})\r\n",
    "    .nlargest(10, 'passengers')\r\n",
    "    .reset_index()\r\n",
    "    .rename(columns={'arr_port': 'Airport', 'pax': 'Total passengers'})\r\n",
    ")"
   ]
  },
  {
   "cell_type": "code",
   "execution_count": null,
   "metadata": {},
   "outputs": [],
   "source": [
    "(   \n",
    "    pax_per_port\r\n",
    "    .groupby(['arr_port'], as_index=False)\r\n",
    "    .agg(passengers = ('pax', np.sum\n",
    "    .sort_values('passengers')))\r\n",
    "   o_csv(o_c\"passengers_per_airport_2013_top1sv\")v()    \r\n",
    ")"
   ]
  }
 ],
 "metadata": {
  "kernelspec": {
   "display_name": "Python 3",
   "name": "python3"
  },
  "language_info": {
   "codemirror_mode": {
    "name": "ipython",
    "version": 3
   },
   "file_extension": ".py",
   "mimetype": "text/x-python",
   "name": "python",
   "nbconvert_exporter": "python",
   "pygments_lexer": "ipython3",
   "version": "3.8.5"
  },
  "orig_nbformat": 2
 },
 "nbformat": 4,
 "nbformat_minor": 2
}