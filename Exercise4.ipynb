{
 "cells": [
  {
   "cell_type": "markdown",
   "metadata": {},
   "source": [
    "# Exercise 4"
   ]
  },
  {
   "cell_type": "markdown",
   "metadata": {},
   "source": [
    "Match searches with bookings"
   ]
  },
  {
   "cell_type": "markdown",
   "metadata": {},
   "source": [
    "### Step 0: Load libraries and data"
   ]
  },
  {
   "cell_type": "markdown",
   "metadata": {},
   "source": [
    "#### Load libraries"
   ]
  },
  {
   "cell_type": "code",
   "execution_count": 1,
   "metadata": {},
   "outputs": [],
   "source": [
    "import pandas as pd\r\n",
    "import numpy as np"
   ]
  },
  {
   "cell_type": "code",
   "execution_count": 2,
   "metadata": {},
   "outputs": [],
   "source": [
    "path_cleaned_bookings = \"../Data/cleaned_bookings.csv.bz2\" # From Exercise 2\r\n",
    "path_cleaned_searches = \"../Data/cleaned_searches.csv.bz2\" # From Exercise 3\r\n",
    "\r\n",
    "path_ext_searches = \"../Data/ext_searches.csv.bz2\"\r\n",
    "path_ext_searches2 = \"../Data/ext_searches2.csv.bz2\""
   ]
  },
  {
   "cell_type": "markdown",
   "metadata": {},
   "source": [
    "#### Load Bookings file"
   ]
  },
  {
   "cell_type": "code",
   "execution_count": 3,
   "metadata": {},
   "outputs": [],
   "source": [
    "bookings = (\r\n",
    "    pd.read_csv(\r\n",
    "        path_cleaned_bookings,\r\n",
    "        compression='bz2',\r\n",
    "        engine='c',\r\n",
    "        delimiter=\"^\",\r\n",
    "        usecols=[\"dep_port\", \"arr_port\", \"brd_time\"],\r\n",
    "    )\r\n",
    ")"
   ]
  },
  {
   "cell_type": "code",
   "execution_count": 4,
   "metadata": {},
   "outputs": [
    {
     "data": {
      "text/plain": "(1016377, 3)"
     },
     "execution_count": 4,
     "metadata": {},
     "output_type": "execute_result"
    }
   ],
   "source": [
    "bookings.shape"
   ]
  },
  {
   "cell_type": "markdown",
   "metadata": {},
   "source": [
    "#### Load Searches file"
   ]
  },
  {
   "cell_type": "code",
   "execution_count": 5,
   "metadata": {},
   "outputs": [],
   "source": [
    "searches = ( \r\n",
    "    pd.read_csv(\r\n",
    "        path_cleaned_searches,\r\n",
    "        compression='bz2',\r\n",
    "        engine='c',\r\n",
    "        delimiter=\"^\",\r\n",
    "    )\r\n",
    ")"
   ]
  },
  {
   "cell_type": "code",
   "execution_count": 6,
   "metadata": {},
   "outputs": [
    {
     "data": {
      "text/plain": "(438240, 45)"
     },
     "execution_count": 6,
     "metadata": {},
     "output_type": "execute_result"
    }
   ],
   "source": [
    "searches.shape"
   ]
  },
  {
   "cell_type": "code",
   "execution_count": 7,
   "metadata": {},
   "outputs": [
    {
     "data": {
      "text/plain": "Index(['Date', 'Time', 'TxnCode', 'OfficeID', 'Country', 'Origin',\n       'Destination', 'RoundTrip', 'NbSegments', 'Seg1Departure',\n       'Seg1Arrival', 'Seg1Date', 'Seg1Carrier', 'Seg1BookingCode',\n       'Seg2Departure', 'Seg2Arrival', 'Seg2Date', 'Seg2Carrier',\n       'Seg2BookingCode', 'Seg3Departure', 'Seg3Arrival', 'Seg3Date',\n       'Seg3Carrier', 'Seg3BookingCode', 'Seg4Departure', 'Seg4Arrival',\n       'Seg4Date', 'Seg4Carrier', 'Seg4BookingCode', 'Seg5Departure',\n       'Seg5Arrival', 'Seg5Date', 'Seg5Carrier', 'Seg5BookingCode',\n       'Seg6Departure', 'Seg6Arrival', 'Seg6Date', 'Seg6Carrier',\n       'Seg6BookingCode', 'From', 'IsPublishedForNeg', 'IsFromInternet',\n       'IsFromVista', 'TerminalID', 'InternetOffice'],\n      dtype='object')"
     },
     "execution_count": 7,
     "metadata": {},
     "output_type": "execute_result"
    }
   ],
   "source": [
    "searches.columns"
   ]
  },
  {
   "cell_type": "markdown",
   "metadata": {},
   "source": [
    "## Plan A"
   ]
  },
  {
   "cell_type": "markdown",
   "metadata": {},
   "source": [
    "**Plan action**\r\n",
    "1. Prepare dataframes: \r\n",
    "    - Bookings:\r\n",
    "        - Rename columns\r\n",
    "        - Extract date with regex\r\n",
    "        - Convert columns to more suitable dtypes to save memory\r\n",
    "        - Create index column\r\n",
    "    - Searches:\r\n",
    "        - Select *Origin*, *Destination*, *Seg1Date*\r\n",
    "        - Rename columns\r\n",
    "        - Convert columns to more suitable dtypes to save memory\r\n",
    "        - Create index column\r\n",
    "2. Join dataframes\r\n",
    "    - Inner join between *modified Searches* and *Bookings* by *origin*, *destination* and *date*\r\n",
    "        - Add *booked* column\r\n",
    "        - Drop *origin*, *destination*, *date*\r\n",
    "    - Left join between initial *Searches* and previous join by *index*\r\n",
    "        - Fill NaNs with False\r\n",
    "        - Drop *index*\r\n",
    "3. Save output"
   ]
  },
  {
   "cell_type": "markdown",
   "metadata": {},
   "source": [
    "### Step 1: Prepare dataframe"
   ]
  },
  {
   "cell_type": "markdown",
   "metadata": {},
   "source": [
    "#### Bookings dataframe"
   ]
  },
  {
   "cell_type": "code",
   "execution_count": 8,
   "metadata": {},
   "outputs": [],
   "source": [
    "mod_bookings = (\r\n",
    "    bookings\r\n",
    "    .rename(\r\n",
    "        columns={\"dep_port\": \"origin\", \"arr_port\": \"destination\", \"brd_time\": \"date\"}\r\n",
    "    )\r\n",
    "    .assign(\r\n",
    "        origin=bookings['dep_port'].str.strip(),\r\n",
    "        destination=bookings['arr_port'].str.strip(),\r\n",
    "        date=bookings['brd_time'].str.extract(r\"^(\\d{4}-\\d{2}-\\d{2})\", expand=False))\r\n",
    "    .astype(\r\n",
    "        {\"origin\": \"category\", \"destination\": \"category\", \"date\": \"datetime64\"},\r\n",
    "    )\r\n",
    "    .reset_index()\r\n",
    ")"
   ]
  },
  {
   "cell_type": "code",
   "execution_count": 9,
   "metadata": {},
   "outputs": [
    {
     "data": {
      "text/html": "<div>\n<style scoped>\n    .dataframe tbody tr th:only-of-type {\n        vertical-align: middle;\n    }\n\n    .dataframe tbody tr th {\n        vertical-align: top;\n    }\n\n    .dataframe thead th {\n        text-align: right;\n    }\n</style>\n<table border=\"1\" class=\"dataframe\">\n  <thead>\n    <tr style=\"text-align: right;\">\n      <th></th>\n      <th>index</th>\n      <th>origin</th>\n      <th>destination</th>\n      <th>date</th>\n    </tr>\n  </thead>\n  <tbody>\n    <tr>\n      <th>0</th>\n      <td>0</td>\n      <td>ZRH</td>\n      <td>LHR</td>\n      <td>2013-03-07</td>\n    </tr>\n    <tr>\n      <th>1</th>\n      <td>1</td>\n      <td>SAL</td>\n      <td>CLT</td>\n      <td>2013-04-12</td>\n    </tr>\n    <tr>\n      <th>2</th>\n      <td>2</td>\n      <td>SAL</td>\n      <td>CLT</td>\n      <td>2013-07-15</td>\n    </tr>\n    <tr>\n      <th>3</th>\n      <td>3</td>\n      <td>AKL</td>\n      <td>SVO</td>\n      <td>2013-04-24</td>\n    </tr>\n    <tr>\n      <th>4</th>\n      <td>4</td>\n      <td>AKL</td>\n      <td>SVO</td>\n      <td>2013-05-14</td>\n    </tr>\n  </tbody>\n</table>\n</div>",
      "text/plain": "   index origin destination       date\n0      0    ZRH         LHR 2013-03-07\n1      1    SAL         CLT 2013-04-12\n2      2    SAL         CLT 2013-07-15\n3      3    AKL         SVO 2013-04-24\n4      4    AKL         SVO 2013-05-14"
     },
     "execution_count": 9,
     "metadata": {},
     "output_type": "execute_result"
    }
   ],
   "source": [
    "mod_bookings.head()"
   ]
  },
  {
   "cell_type": "markdown",
   "metadata": {},
   "source": [
    "#### Searches dataframe"
   ]
  },
  {
   "cell_type": "code",
   "execution_count": 10,
   "metadata": {},
   "outputs": [],
   "source": [
    "mod_searches = (\r\n",
    "    searches\r\n",
    "    .filter(['Origin', 'Destination', 'Seg1Date'])\r\n",
    "    .rename(\r\n",
    "        columns={'Origin': 'origin', 'Destination': 'destination', 'Seg1Date': 'date'}\r\n",
    "    )\r\n",
    "    .assign(\r\n",
    "        origin=searches['Origin'].str.strip(),\r\n",
    "        destination=searches['Destination'].str.strip(),\r\n",
    "    )\r\n",
    "    .astype(\r\n",
    "        {\"origin\": \"category\", \"destination\": \"category\", \"date\": \"datetime64\"},\r\n",
    "    )\r\n",
    "    \r\n",
    ")"
   ]
  },
  {
   "cell_type": "code",
   "execution_count": 11,
   "metadata": {},
   "outputs": [
    {
     "data": {
      "text/html": "<div>\n<style scoped>\n    .dataframe tbody tr th:only-of-type {\n        vertical-align: middle;\n    }\n\n    .dataframe tbody tr th {\n        vertical-align: top;\n    }\n\n    .dataframe thead th {\n        text-align: right;\n    }\n</style>\n<table border=\"1\" class=\"dataframe\">\n  <thead>\n    <tr style=\"text-align: right;\">\n      <th></th>\n      <th>origin</th>\n      <th>destination</th>\n      <th>date</th>\n    </tr>\n  </thead>\n  <tbody>\n    <tr>\n      <th>0</th>\n      <td>TXL</td>\n      <td>AUH</td>\n      <td>2013-01-26</td>\n    </tr>\n    <tr>\n      <th>1</th>\n      <td>ATH</td>\n      <td>MIL</td>\n      <td>2013-01-04</td>\n    </tr>\n    <tr>\n      <th>2</th>\n      <td>ICT</td>\n      <td>SFO</td>\n      <td>2013-08-02</td>\n    </tr>\n    <tr>\n      <th>3</th>\n      <td>RNB</td>\n      <td>ARN</td>\n      <td>2013-01-02</td>\n    </tr>\n    <tr>\n      <th>4</th>\n      <td>OSL</td>\n      <td>MAD</td>\n      <td>2013-03-22</td>\n    </tr>\n  </tbody>\n</table>\n</div>",
      "text/plain": "  origin destination       date\n0    TXL         AUH 2013-01-26\n1    ATH         MIL 2013-01-04\n2    ICT         SFO 2013-08-02\n3    RNB         ARN 2013-01-02\n4    OSL         MAD 2013-03-22"
     },
     "execution_count": 11,
     "metadata": {},
     "output_type": "execute_result"
    }
   ],
   "source": [
    "mod_searches.head()"
   ]
  },
  {
   "cell_type": "code",
   "execution_count": 12,
   "metadata": {},
   "outputs": [
    {
     "data": {
      "text/plain": "origin               category\ndestination          category\ndate           datetime64[ns]\ndtype: object"
     },
     "execution_count": 12,
     "metadata": {},
     "output_type": "execute_result"
    }
   ],
   "source": [
    "mod_searches.dtypes"
   ]
  },
  {
   "cell_type": "markdown",
   "metadata": {},
   "source": [
    "### Step 2: Join dataframes"
   ]
  },
  {
   "cell_type": "markdown",
   "metadata": {},
   "source": [
    "#### Inner join between modified searches and bookings"
   ]
  },
  {
   "cell_type": "code",
   "execution_count": 13,
   "metadata": {},
   "outputs": [],
   "source": [
    "join = (\r\n",
    "    mod_searches\r\n",
    "    .merge(\r\n",
    "        mod_bookings, \r\n",
    "        how='inner', \r\n",
    "        on=['origin', 'destination', 'date'],\r\n",
    "    )\r\n",
    "    .drop_duplicates(subset='index', keep='first')\r\n",
    "    .assign(booked=True)\r\n",
    "    .drop(columns=['origin', 'destination', 'date'])\r\n",
    ")\r\n"
   ]
  },
  {
   "cell_type": "markdown",
   "metadata": {},
   "source": [
    "#### Left join between initial searches and previous join"
   ]
  },
  {
   "cell_type": "code",
   "execution_count": 14,
   "metadata": {},
   "outputs": [],
   "source": [
    "ext_searches = (\r\n",
    "    searches\r\n",
    "    .reset_index()\r\n",
    "    .merge(\r\n",
    "        join,\r\n",
    "        on=['index'],\r\n",
    "        how='left',\r\n",
    "    )\r\n",
    "    .fillna({'booked': False})\r\n",
    "    .rename(columns={\"booked\": \"Booked\"})\r\n",
    "    .drop(columns='index')\r\n",
    ")\r\n"
   ]
  },
  {
   "cell_type": "code",
   "execution_count": 15,
   "metadata": {},
   "outputs": [
    {
     "data": {
      "text/plain": "(438240, 46)"
     },
     "execution_count": 15,
     "metadata": {},
     "output_type": "execute_result"
    }
   ],
   "source": [
    "ext_searches.shape"
   ]
  },
  {
   "cell_type": "code",
   "execution_count": 16,
   "metadata": {},
   "outputs": [
    {
     "name": "stdout",
     "output_type": "stream",
     "text": [
      "Convertion rate: 2.99%\n"
     ]
    }
   ],
   "source": [
    "print(f\"Convertion rate: {100*ext_searches['Booked'].mean():.2f}%\")"
   ]
  },
  {
   "cell_type": "markdown",
   "metadata": {},
   "source": [
    "### Step 3: Save output"
   ]
  },
  {
   "cell_type": "code",
   "execution_count": 17,
   "metadata": {},
   "outputs": [],
   "source": [
    "(\r\n",
    "    ext_searches\r\n",
    "    .to_csv(path_ext_searches, sep=\"^\", index=False)\r\n",
    ")"
   ]
  },
  {
   "cell_type": "markdown",
   "metadata": {},
   "source": [
    "## Plan B"
   ]
  },
  {
   "cell_type": "markdown",
   "metadata": {},
   "source": [
    "**Plan action**\r\n",
    "1. Prepare Bookings dataframes: \r\n",
    "    - Extract date with regex from brd_time column\r\n",
    "    - Add booked column to True\r\n",
    "2. Left join between initial *Searches* and modified *Bookings*\r\n",
    "    - Fill NaNs with False\r\n",
    "    - Drop \"dep_port*, *arr_port*, *brd_time*, *index*\r\n",
    "3. Save output"
   ]
  },
  {
   "cell_type": "markdown",
   "metadata": {},
   "source": [
    "### Step 1: Prepare Bookings dataframes"
   ]
  },
  {
   "cell_type": "code",
   "execution_count": 18,
   "metadata": {},
   "outputs": [],
   "source": [
    "mod_bookings2 = (\r\n",
    "    bookings\r\n",
    "    .apply(lambda col: col.str.strip() if col.dtypes == \"object\" else col)\r\n",
    "    .assign(\r\n",
    "        date=bookings[\"brd_time\"].str.extract(r\"^(\\d{4}-\\d{2}-\\d{2})\", expand=False),\r\n",
    "        booked=True\r\n",
    "    )\r\n",
    ")"
   ]
  },
  {
   "cell_type": "code",
   "execution_count": 19,
   "metadata": {},
   "outputs": [
    {
     "data": {
      "text/html": "<div>\n<style scoped>\n    .dataframe tbody tr th:only-of-type {\n        vertical-align: middle;\n    }\n\n    .dataframe tbody tr th {\n        vertical-align: top;\n    }\n\n    .dataframe thead th {\n        text-align: right;\n    }\n</style>\n<table border=\"1\" class=\"dataframe\">\n  <thead>\n    <tr style=\"text-align: right;\">\n      <th></th>\n      <th>dep_port</th>\n      <th>arr_port</th>\n      <th>brd_time</th>\n      <th>date</th>\n      <th>booked</th>\n    </tr>\n  </thead>\n  <tbody>\n    <tr>\n      <th>0</th>\n      <td>ZRH</td>\n      <td>LHR</td>\n      <td>2013-03-07 08:50:00</td>\n      <td>2013-03-07</td>\n      <td>True</td>\n    </tr>\n    <tr>\n      <th>1</th>\n      <td>SAL</td>\n      <td>CLT</td>\n      <td>2013-04-12 13:04:00</td>\n      <td>2013-04-12</td>\n      <td>True</td>\n    </tr>\n    <tr>\n      <th>2</th>\n      <td>SAL</td>\n      <td>CLT</td>\n      <td>2013-07-15 07:00:00</td>\n      <td>2013-07-15</td>\n      <td>True</td>\n    </tr>\n    <tr>\n      <th>3</th>\n      <td>AKL</td>\n      <td>SVO</td>\n      <td>2013-04-24 23:59:00</td>\n      <td>2013-04-24</td>\n      <td>True</td>\n    </tr>\n    <tr>\n      <th>4</th>\n      <td>AKL</td>\n      <td>SVO</td>\n      <td>2013-05-14 20:15:00</td>\n      <td>2013-05-14</td>\n      <td>True</td>\n    </tr>\n  </tbody>\n</table>\n</div>",
      "text/plain": "  dep_port arr_port             brd_time        date  booked\n0      ZRH      LHR  2013-03-07 08:50:00  2013-03-07    True\n1      SAL      CLT  2013-04-12 13:04:00  2013-04-12    True\n2      SAL      CLT  2013-07-15 07:00:00  2013-07-15    True\n3      AKL      SVO  2013-04-24 23:59:00  2013-04-24    True\n4      AKL      SVO  2013-05-14 20:15:00  2013-05-14    True"
     },
     "execution_count": 19,
     "metadata": {},
     "output_type": "execute_result"
    }
   ],
   "source": [
    "mod_bookings2.head()"
   ]
  },
  {
   "cell_type": "markdown",
   "metadata": {},
   "source": [
    "### Step 2: Left join between initial *Searches* and modified *Bookings*"
   ]
  },
  {
   "cell_type": "code",
   "execution_count": 20,
   "metadata": {},
   "outputs": [],
   "source": [
    "ext_searches2 = (\r\n",
    "    searches\r\n",
    "    .reset_index()\r\n",
    "    .merge(\r\n",
    "        mod_bookings2,\r\n",
    "        left_on=[\"Origin\", \"Destination\", \"Seg1Date\"],\r\n",
    "        right_on=[\"dep_port\", \"arr_port\", \"date\"],\r\n",
    "        how='left',\r\n",
    "    )\r\n",
    "    .drop_duplicates(subset=\"index\", keep=\"first\")\r\n",
    "    .fillna({'booked': False})\r\n",
    "    .drop(columns = [\"dep_port\", \"arr_port\", \"brd_time\", \"date\", \"index\"])\r\n",
    "    .rename(columns={\"booked\": \"Booked\"})\r\n",
    ")"
   ]
  },
  {
   "cell_type": "code",
   "execution_count": 21,
   "metadata": {},
   "outputs": [
    {
     "data": {
      "text/html": "<div>\n<style scoped>\n    .dataframe tbody tr th:only-of-type {\n        vertical-align: middle;\n    }\n\n    .dataframe tbody tr th {\n        vertical-align: top;\n    }\n\n    .dataframe thead th {\n        text-align: right;\n    }\n</style>\n<table border=\"1\" class=\"dataframe\">\n  <thead>\n    <tr style=\"text-align: right;\">\n      <th></th>\n      <th>Date</th>\n      <th>Time</th>\n      <th>TxnCode</th>\n      <th>OfficeID</th>\n      <th>Country</th>\n      <th>Origin</th>\n      <th>Destination</th>\n      <th>RoundTrip</th>\n      <th>NbSegments</th>\n      <th>Seg1Departure</th>\n      <th>...</th>\n      <th>Seg6Date</th>\n      <th>Seg6Carrier</th>\n      <th>Seg6BookingCode</th>\n      <th>From</th>\n      <th>IsPublishedForNeg</th>\n      <th>IsFromInternet</th>\n      <th>IsFromVista</th>\n      <th>TerminalID</th>\n      <th>InternetOffice</th>\n      <th>Booked</th>\n    </tr>\n  </thead>\n  <tbody>\n    <tr>\n      <th>0</th>\n      <td>2013-01-01</td>\n      <td>20:25:57</td>\n      <td>MPT</td>\n      <td>624d8c3ac0b3a7ca03e3c167e0f48327</td>\n      <td>DE</td>\n      <td>TXL</td>\n      <td>AUH</td>\n      <td>1.0</td>\n      <td>2.0</td>\n      <td>TXL</td>\n      <td>...</td>\n      <td>NaN</td>\n      <td>NaN</td>\n      <td>NaN</td>\n      <td>1ASIWS</td>\n      <td>NaN</td>\n      <td>NaN</td>\n      <td>NaN</td>\n      <td>d41d8cd98f00b204e9800998ecf8427e</td>\n      <td>FRA</td>\n      <td>False</td>\n    </tr>\n    <tr>\n      <th>1</th>\n      <td>2013-01-01</td>\n      <td>10:15:33</td>\n      <td>MPT</td>\n      <td>b0af35b31588dc4ab06d5cf2986e8e02</td>\n      <td>MD</td>\n      <td>ATH</td>\n      <td>MIL</td>\n      <td>0.0</td>\n      <td>1.0</td>\n      <td>ATH</td>\n      <td>...</td>\n      <td>NaN</td>\n      <td>NaN</td>\n      <td>NaN</td>\n      <td>1ASIWS</td>\n      <td>NaN</td>\n      <td>NaN</td>\n      <td>NaN</td>\n      <td>d41d8cd98f00b204e9800998ecf8427e</td>\n      <td>KIV</td>\n      <td>False</td>\n    </tr>\n    <tr>\n      <th>2</th>\n      <td>2013-01-01</td>\n      <td>18:04:49</td>\n      <td>MPT</td>\n      <td>3561a60621de06ab1badc8ca55699ef3</td>\n      <td>US</td>\n      <td>ICT</td>\n      <td>SFO</td>\n      <td>1.0</td>\n      <td>2.0</td>\n      <td>ICT</td>\n      <td>...</td>\n      <td>NaN</td>\n      <td>NaN</td>\n      <td>NaN</td>\n      <td>1ASIWS</td>\n      <td>NaN</td>\n      <td>NaN</td>\n      <td>NaN</td>\n      <td>d41d8cd98f00b204e9800998ecf8427e</td>\n      <td>NYC</td>\n      <td>False</td>\n    </tr>\n    <tr>\n      <th>3</th>\n      <td>2013-01-01</td>\n      <td>17:42:40</td>\n      <td>FXP</td>\n      <td>1864e5e8013d9414150e91d26b6a558b</td>\n      <td>SE</td>\n      <td>RNB</td>\n      <td>ARN</td>\n      <td>0.0</td>\n      <td>1.0</td>\n      <td>RNB</td>\n      <td>...</td>\n      <td>NaN</td>\n      <td>NaN</td>\n      <td>NaN</td>\n      <td>1ASI</td>\n      <td>NaN</td>\n      <td>NaN</td>\n      <td>NaN</td>\n      <td>d41d8cd98f00b204e9800998ecf8427e</td>\n      <td>STO</td>\n      <td>False</td>\n    </tr>\n    <tr>\n      <th>4</th>\n      <td>2013-01-01</td>\n      <td>17:48:29</td>\n      <td>MPT</td>\n      <td>1ec336348f44207d2e0027dc3a68c118</td>\n      <td>NO</td>\n      <td>OSL</td>\n      <td>MAD</td>\n      <td>1.0</td>\n      <td>2.0</td>\n      <td>OSL</td>\n      <td>...</td>\n      <td>NaN</td>\n      <td>NaN</td>\n      <td>NaN</td>\n      <td>1ASIWS</td>\n      <td>NaN</td>\n      <td>NaN</td>\n      <td>NaN</td>\n      <td>d41d8cd98f00b204e9800998ecf8427e</td>\n      <td>OSL</td>\n      <td>True</td>\n    </tr>\n  </tbody>\n</table>\n<p>5 rows × 46 columns</p>\n</div>",
      "text/plain": "         Date      Time TxnCode                          OfficeID Country  \\\n0  2013-01-01  20:25:57     MPT  624d8c3ac0b3a7ca03e3c167e0f48327      DE   \n1  2013-01-01  10:15:33     MPT  b0af35b31588dc4ab06d5cf2986e8e02      MD   \n2  2013-01-01  18:04:49     MPT  3561a60621de06ab1badc8ca55699ef3      US   \n3  2013-01-01  17:42:40     FXP  1864e5e8013d9414150e91d26b6a558b      SE   \n4  2013-01-01  17:48:29     MPT  1ec336348f44207d2e0027dc3a68c118      NO   \n\n  Origin Destination  RoundTrip  NbSegments Seg1Departure  ... Seg6Date  \\\n0    TXL         AUH        1.0         2.0           TXL  ...      NaN   \n1    ATH         MIL        0.0         1.0           ATH  ...      NaN   \n2    ICT         SFO        1.0         2.0           ICT  ...      NaN   \n3    RNB         ARN        0.0         1.0           RNB  ...      NaN   \n4    OSL         MAD        1.0         2.0           OSL  ...      NaN   \n\n  Seg6Carrier Seg6BookingCode    From IsPublishedForNeg IsFromInternet  \\\n0         NaN             NaN  1ASIWS               NaN            NaN   \n1         NaN             NaN  1ASIWS               NaN            NaN   \n2         NaN             NaN  1ASIWS               NaN            NaN   \n3         NaN             NaN    1ASI               NaN            NaN   \n4         NaN             NaN  1ASIWS               NaN            NaN   \n\n  IsFromVista                        TerminalID InternetOffice Booked  \n0         NaN  d41d8cd98f00b204e9800998ecf8427e            FRA  False  \n1         NaN  d41d8cd98f00b204e9800998ecf8427e            KIV  False  \n2         NaN  d41d8cd98f00b204e9800998ecf8427e            NYC  False  \n3         NaN  d41d8cd98f00b204e9800998ecf8427e            STO  False  \n4         NaN  d41d8cd98f00b204e9800998ecf8427e            OSL   True  \n\n[5 rows x 46 columns]"
     },
     "execution_count": 21,
     "metadata": {},
     "output_type": "execute_result"
    }
   ],
   "source": [
    "ext_searches2.head()"
   ]
  },
  {
   "cell_type": "code",
   "execution_count": 22,
   "metadata": {},
   "outputs": [
    {
     "data": {
      "text/plain": "(438240, 46)"
     },
     "execution_count": 22,
     "metadata": {},
     "output_type": "execute_result"
    }
   ],
   "source": [
    "ext_searches2.shape"
   ]
  },
  {
   "cell_type": "code",
   "execution_count": 23,
   "metadata": {},
   "outputs": [
    {
     "name": "stdout",
     "output_type": "stream",
     "text": [
      "Convertion rate: 5.13%\n"
     ]
    }
   ],
   "source": [
    "print(f\"Convertion rate: {100*ext_searches2['Booked'].mean():.2f}%\")"
   ]
  },
  {
   "cell_type": "markdown",
   "metadata": {},
   "source": [
    "### Step 3: Save output"
   ]
  },
  {
   "cell_type": "code",
   "execution_count": 24,
   "metadata": {},
   "outputs": [],
   "source": [
    "(\r\n",
    "    ext_searches2\r\n",
    "    .to_csv(path_ext_searches2, sep=\"^\", index=False)\r\n",
    ")"
   ]
  }
 ],
 "metadata": {
  "kernelspec": {
   "display_name": "Python 3",
   "name": "python3"
  },
  "language_info": {
   "codemirror_mode": {
    "name": "ipython",
    "version": 3
   },
   "file_extension": ".py",
   "mimetype": "text/x-python",
   "name": "python",
   "nbconvert_exporter": "python",
   "pygments_lexer": "ipython3",
   "version": "3.8.5"
  },
  "orig_nbformat": 2
 },
 "nbformat": 4,
 "nbformat_minor": 2
}